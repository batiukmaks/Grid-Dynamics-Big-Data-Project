{
 "cells": [
  {
   "cell_type": "code",
   "execution_count": 34,
   "id": "fed4ae68-020b-4af6-9536-6835c5545255",
   "metadata": {},
   "outputs": [],
   "source": [
    "from pyspark import SparkConf\n",
    "from pyspark.sql import SparkSession, Window\n",
    "import pyspark.sql.functions as f\n",
    "import pyspark.sql.types as t"
   ]
  },
  {
   "cell_type": "code",
   "execution_count": 2,
   "id": "56fb84d7-9de0-4ca9-b495-3f59c027b4c3",
   "metadata": {},
   "outputs": [],
   "source": [
    "spark_session = (SparkSession.builder\n",
    "                .master('local')\n",
    "                .appName('Big Data Project')\n",
    "                .config(conf=SparkConf())\n",
    "                .getOrCreate())"
   ]
  },
  {
   "cell_type": "markdown",
   "id": "73b609af-4835-454c-a9a8-fba4ceed909f",
   "metadata": {},
   "source": [
    "### Define the schemas"
   ]
  },
  {
   "cell_type": "code",
   "execution_count": 3,
   "id": "547f7d39-52c0-45f2-b017-f4367ff8b4fb",
   "metadata": {},
   "outputs": [],
   "source": [
    "name_basics_schema = t.StructType([\n",
    "    t.StructField(\"nconst\", t.StringType(), nullable=False),\n",
    "    t.StructField(\"primaryName\", t.StringType(), nullable=False),\n",
    "    t.StructField(\"birthYear\", t.IntegerType(), nullable=True),\n",
    "    t.StructField(\"deathYear\", t.IntegerType(), nullable=True),\n",
    "    t.StructField(\"primaryProfession\", t.StringType(), nullable=True),\n",
    "    t.StructField(\"knownForTitles\", t.StringType(), nullable=True)\n",
    "])"
   ]
  },
  {
   "cell_type": "code",
   "execution_count": 4,
   "id": "7ff70f0d-3989-4bf9-9d67-1acc04f6e9cf",
   "metadata": {},
   "outputs": [],
   "source": [
    "# Define the schema for the 'title.basics.tsv' table\n",
    "title_basics_schema = t.StructType([\n",
    "    t.StructField(\"tconst\", t.StringType(), nullable=False),\n",
    "    t.StructField(\"titleType\", t.StringType(), nullable=True),\n",
    "    t.StructField(\"primaryTitle\", t.StringType(), nullable=True),\n",
    "    t.StructField(\"originalTitle\", t.StringType(), nullable=True),\n",
    "    t.StructField(\"isAdult\", t.IntegerType(), nullable=True),\n",
    "    t.StructField(\"startYear\", t.IntegerType(), nullable=True),\n",
    "    t.StructField(\"endYear\", t.StringType(), nullable=True),\n",
    "    t.StructField(\"runtimeMinutes\", t.IntegerType(), nullable=True),\n",
    "    t.StructField(\"genres\", t.StringType(), nullable=True)\n",
    "])\n"
   ]
  },
  {
   "cell_type": "code",
   "execution_count": 5,
   "id": "f5ab9dfd-43c7-465c-a713-d7007694d3dd",
   "metadata": {},
   "outputs": [],
   "source": [
    "# Define the schema for the 'title.akas.tsv' table\n",
    "title_akas_schema = t.StructType([\n",
    "    t.StructField(\"titleId\", t.StringType(), nullable=False),\n",
    "    t.StructField(\"ordering\", t.IntegerType(), nullable=True),\n",
    "    t.StructField(\"title\", t.StringType(), nullable=True),\n",
    "    t.StructField(\"region\", t.StringType(), nullable=True),\n",
    "    t.StructField(\"language\",t.StringType(), nullable=True),\n",
    "    t.StructField(\"types\", t.StringType(), nullable=True),\n",
    "    t.StructField(\"attributes\", t.StringType(), nullable=True),\n",
    "    t.StructField(\"isOriginalTitle\", t.IntegerType(), nullable=True)\n",
    "])"
   ]
  },
  {
   "cell_type": "code",
   "execution_count": 6,
   "id": "cc25c596-f2a3-408f-801e-841be6aea59b",
   "metadata": {},
   "outputs": [],
   "source": [
    "# Define the schema for the 'title.crew.tsv' table\n",
    "title_crew_schema = t.StructType([\n",
    "    t.StructField(\"tconst\", t.StringType(), nullable=False),\n",
    "    t.StructField(\"directors\", t.StringType(), nullable=True),\n",
    "    t.StructField(\"writers\", t.StringType(), nullable=True)\n",
    "])"
   ]
  },
  {
   "cell_type": "code",
   "execution_count": 7,
   "id": "322b48f2-db6c-4d93-8156-329d02591d2e",
   "metadata": {},
   "outputs": [],
   "source": [
    "# Define the schema for the 'title.principals.tsv' table\n",
    "title_principals_schema = t.StructType([\n",
    "    t.StructField(\"tconst\", t.StringType(), nullable=False),\n",
    "    t.StructField(\"ordering\", t.IntegerType(), nullable=True),\n",
    "    t.StructField(\"nconst\", t.StringType(), nullable=True),\n",
    "    t.StructField(\"category\", t.StringType(), nullable=True),\n",
    "    t.StructField(\"job\", t.StringType(), nullable=True),\n",
    "    t.StructField(\"characters\", t.StringType(), nullable=True)\n",
    "])"
   ]
  },
  {
   "cell_type": "code",
   "execution_count": 8,
   "id": "e1678ba2-89f2-4c64-b221-bae55852c959",
   "metadata": {},
   "outputs": [],
   "source": [
    "# Define the schema for the 'title.ratings.tsv' table\n",
    "title_ratings_schema = t.StructType([\n",
    "    t.StructField(\"tconst\", t.StringType(), nullable=False),\n",
    "    t.StructField(\"averageRating\", t.FloatType(), nullable=True),\n",
    "    t.StructField(\"numVotes\", t.IntegerType(), nullable=True)\n",
    "])"
   ]
  },
  {
   "cell_type": "code",
   "execution_count": 9,
   "id": "300f9979-9405-4e3e-a66d-f9a91a554e98",
   "metadata": {},
   "outputs": [],
   "source": [
    "# Define the schema for the 'title.episode.tsv' table\n",
    "title_episode_schema = t.StructType([\n",
    "    t.StructField(\"tconst\", t.StringType(), nullable=False),\n",
    "    t.StructField(\"parentTconst\", t.StringType(), nullable=True),\n",
    "    t.StructField(\"seasonNumber\", t.IntegerType(), nullable=True),\n",
    "    t.StructField(\"episodeNumber\", t.IntegerType(), nullable=True)\n",
    "])"
   ]
  },
  {
   "cell_type": "markdown",
   "id": "bd3f00cb-9664-4b06-abc4-217315199223",
   "metadata": {},
   "source": [
    "### Read the datasets"
   ]
  },
  {
   "cell_type": "code",
   "execution_count": 10,
   "id": "a20a724b-949b-4350-b44b-bcad6ca3ac45",
   "metadata": {},
   "outputs": [],
   "source": [
    "name_basics_df = spark_session.read.csv(\"imdb/name.basics.tsv\", sep=r'\\t', header=True, schema=name_basics_schema)\n",
    "title_basics_df = spark_session.read.csv(\"imdb/title.basics.tsv\", sep=r'\\t', header=True, schema=title_basics_schema)\n",
    "title_akas_df = spark_session.read.csv(\"imdb/title.akas.tsv\", sep=r'\\t', header=True, schema=title_akas_schema)\n",
    "title_crew_df = spark_session.read.csv(\"imdb/title.crew.tsv\", sep=r'\\t', header=True, schema=title_crew_schema)\n",
    "title_principals_df = spark_session.read.csv(\"imdb/title.principals.tsv\", sep=r'\\t', header=True, schema=title_principals_schema)\n",
    "title_ratings_df = spark_session.read.csv(\"imdb/title.ratings.tsv\", sep=r'\\t', header=True, schema=title_ratings_schema)\n",
    "title_episode_df = spark_session.read.csv(\"imdb/title.episode.tsv\", sep=r'\\t', header=True, schema=title_episode_schema)"
   ]
  },
  {
   "cell_type": "code",
   "execution_count": 11,
   "id": "c9cfdc93-c05a-4d5d-b41f-256d361c46f5",
   "metadata": {},
   "outputs": [],
   "source": [
    "dfs = [name_basics_df, title_basics_df, title_akas_df, title_crew_df, title_principals_df, title_ratings_df, title_episode_df]\n",
    "df_names = [\"name.basics\", \"title.basics.tsv\", \"title.akas.tsv\", \"title.crew.tsv\", \"title.principals.tsv\", \"title.ratings.tsv\", \"title.episode.tsv\"]"
   ]
  },
  {
   "cell_type": "code",
   "execution_count": 12,
   "id": "811251e2-73d3-49f1-91f3-b0eb9262da64",
   "metadata": {},
   "outputs": [
    {
     "name": "stdout",
     "output_type": "stream",
     "text": [
      "name.basics : ['nconst', 'primaryName', 'birthYear', 'deathYear', 'primaryProfession', 'knownForTitles']\n",
      "+---------+-------------------+---------+---------+--------------------+--------------------+\n",
      "|   nconst|        primaryName|birthYear|deathYear|   primaryProfession|      knownForTitles|\n",
      "+---------+-------------------+---------+---------+--------------------+--------------------+\n",
      "|nm0000001|       Fred Astaire|     1899|     1987|soundtrack,actor,...|tt0050419,tt00319...|\n",
      "|nm0000002|      Lauren Bacall|     1924|     2014|  actress,soundtrack|tt0117057,tt00752...|\n",
      "|nm0000003|    Brigitte Bardot|     1934|     null|actress,soundtrac...|tt0054452,tt00491...|\n",
      "|nm0000004|       John Belushi|     1949|     1982|actor,soundtrack,...|tt0072562,tt00804...|\n",
      "|nm0000005|     Ingmar Bergman|     1918|     2007|writer,director,a...|tt0069467,tt00839...|\n",
      "|nm0000006|     Ingrid Bergman|     1915|     1982|actress,soundtrac...|tt0038109,tt00387...|\n",
      "|nm0000007|    Humphrey Bogart|     1899|     1957|actor,soundtrack,...|tt0043265,tt00425...|\n",
      "|nm0000008|      Marlon Brando|     1924|     2004|actor,soundtrack,...|tt0047296,tt00686...|\n",
      "|nm0000009|     Richard Burton|     1925|     1984|actor,soundtrack,...|tt0059749,tt00878...|\n",
      "|nm0000010|       James Cagney|     1899|     1986|actor,soundtrack,...|tt0031867,tt00355...|\n",
      "|nm0000011|        Gary Cooper|     1901|     1961|actor,soundtrack,...|tt0044706,tt00358...|\n",
      "|nm0000012|        Bette Davis|     1908|     1989|actress,soundtrac...|tt0056687,tt00351...|\n",
      "|nm0000013|          Doris Day|     1922|     2019|soundtrack,actres...|tt0053172,tt00483...|\n",
      "|nm0000014|Olivia de Havilland|     1916|     2020|  actress,soundtrack|tt0041452,tt00408...|\n",
      "|nm0000015|         James Dean|     1931|     1955| actor,miscellaneous|tt0049261,tt00485...|\n",
      "|nm0000016|    Georges Delerue|     1925|     1992|composer,soundtra...|tt0069946,tt88477...|\n",
      "|nm0000017|   Marlene Dietrich|     1901|     1992|soundtrack,actres...|tt0051201,tt00211...|\n",
      "|nm0000018|       Kirk Douglas|     1916|     2020|actor,producer,so...|tt0080736,tt00494...|\n",
      "|nm0000019|   Federico Fellini|     1920|     1993|writer,director,a...|tt0050783,tt00711...|\n",
      "|nm0000020|        Henry Fonda|     1905|     1982|actor,producer,so...|tt0032551,tt00828...|\n",
      "+---------+-------------------+---------+---------+--------------------+--------------------+\n",
      "only showing top 20 rows\n",
      "\n",
      "title.basics.tsv : ['tconst', 'titleType', 'primaryTitle', 'originalTitle', 'isAdult', 'startYear', 'endYear', 'runtimeMinutes', 'genres']\n",
      "+---------+---------+--------------------+--------------------+-------+---------+-------+--------------+--------------------+\n",
      "|   tconst|titleType|        primaryTitle|       originalTitle|isAdult|startYear|endYear|runtimeMinutes|              genres|\n",
      "+---------+---------+--------------------+--------------------+-------+---------+-------+--------------+--------------------+\n",
      "|tt0000001|    short|          Carmencita|          Carmencita|      0|     1894|     \\N|             1|   Documentary,Short|\n",
      "|tt0000002|    short|Le clown et ses c...|Le clown et ses c...|      0|     1892|     \\N|             5|     Animation,Short|\n",
      "|tt0000003|    short|      Pauvre Pierrot|      Pauvre Pierrot|      0|     1892|     \\N|             4|Animation,Comedy,...|\n",
      "|tt0000004|    short|         Un bon bock|         Un bon bock|      0|     1892|     \\N|            12|     Animation,Short|\n",
      "|tt0000005|    short|    Blacksmith Scene|    Blacksmith Scene|      0|     1893|     \\N|             1|        Comedy,Short|\n",
      "|tt0000006|    short|   Chinese Opium Den|   Chinese Opium Den|      0|     1894|     \\N|             1|               Short|\n",
      "|tt0000007|    short|Corbett and Court...|Corbett and Court...|      0|     1894|     \\N|             1|         Short,Sport|\n",
      "|tt0000008|    short|Edison Kinetoscop...|Edison Kinetoscop...|      0|     1894|     \\N|             1|   Documentary,Short|\n",
      "|tt0000009|    movie|          Miss Jerry|          Miss Jerry|      0|     1894|     \\N|            45|             Romance|\n",
      "|tt0000010|    short| Leaving the Factory|La sortie de l'us...|      0|     1895|     \\N|             1|   Documentary,Short|\n",
      "|tt0000011|    short|Akrobatisches Pot...|Akrobatisches Pot...|      0|     1895|     \\N|             1|   Documentary,Short|\n",
      "|tt0000012|    short|The Arrival of a ...|L'arrivée d'un tr...|      0|     1896|     \\N|             1|   Documentary,Short|\n",
      "|tt0000013|    short|The Photographica...|Le débarquement d...|      0|     1895|     \\N|             1|   Documentary,Short|\n",
      "|tt0000014|    short| The Waterer Watered|   L'arroseur arrosé|      0|     1895|     \\N|             1|        Comedy,Short|\n",
      "|tt0000015|    short| Autour d'une cabine| Autour d'une cabine|      0|     1894|     \\N|             2|     Animation,Short|\n",
      "|tt0000016|    short|Boat Leaving the ...|Barque sortant du...|      0|     1895|     \\N|             1|   Documentary,Short|\n",
      "|tt0000017|    short|Italienischer Bau...|Italienischer Bau...|      0|     1895|     \\N|             1|   Documentary,Short|\n",
      "|tt0000018|    short|Das boxende Känguruh|Das boxende Känguruh|      0|     1895|     \\N|             1|               Short|\n",
      "|tt0000019|    short|    The Clown Barber|    The Clown Barber|      0|     1898|     \\N|          null|        Comedy,Short|\n",
      "|tt0000020|    short|      The Derby 1895|      The Derby 1895|      0|     1895|     \\N|             1|Documentary,Short...|\n",
      "+---------+---------+--------------------+--------------------+-------+---------+-------+--------------+--------------------+\n",
      "only showing top 20 rows\n",
      "\n",
      "title.akas.tsv : ['titleId', 'ordering', 'title', 'region', 'language', 'types', 'attributes', 'isOriginalTitle']\n",
      "+---------+--------+--------------------+------+--------+-----------+--------------------+---------------+\n",
      "|  titleId|ordering|               title|region|language|      types|          attributes|isOriginalTitle|\n",
      "+---------+--------+--------------------+------+--------+-----------+--------------------+---------------+\n",
      "|tt0000001|       1|          Карменсіта|    UA|      \\N|imdbDisplay|                  \\N|              0|\n",
      "|tt0000001|       2|          Carmencita|    DE|      \\N|         \\N|       literal title|              0|\n",
      "|tt0000001|       3|Carmencita - span...|    HU|      \\N|imdbDisplay|                  \\N|              0|\n",
      "|tt0000001|       4|          Καρμενσίτα|    GR|      \\N|imdbDisplay|                  \\N|              0|\n",
      "|tt0000001|       5|          Карменсита|    RU|      \\N|imdbDisplay|                  \\N|              0|\n",
      "|tt0000001|       6|          Carmencita|    US|      \\N|imdbDisplay|                  \\N|              0|\n",
      "|tt0000001|       7|          Carmencita|    \\N|      \\N|   original|                  \\N|              1|\n",
      "|tt0000001|       8|      カルメンチータ|    JP|      ja|imdbDisplay|                  \\N|              0|\n",
      "|tt0000002|       1|Le clown et ses c...|    \\N|      \\N|   original|                  \\N|              1|\n",
      "|tt0000002|       2|Le clown et ses c...|    FR|      \\N|imdbDisplay|                  \\N|              0|\n",
      "|tt0000002|       3|   A bohóc és kutyái|    HU|      \\N|imdbDisplay|                  \\N|              0|\n",
      "|tt0000002|       4|Der Clown und sei...|    DE|      \\N|         \\N|       literal title|              0|\n",
      "|tt0000002|       5|Clovnul si cainii...|    RO|      \\N|imdbDisplay|                  \\N|              0|\n",
      "|tt0000002|       6|  Клоун и его собаки|    RU|      \\N|imdbDisplay|                  \\N|              0|\n",
      "|tt0000002|       7|The Clown and His...|    US|      \\N|         \\N|literal English t...|              0|\n",
      "|tt0000002|       8|          道化師と犬|    JP|      ja|imdbDisplay|                  \\N|              0|\n",
      "|tt0000003|       1|    Sarmanul Pierrot|    RO|      \\N|imdbDisplay|                  \\N|              0|\n",
      "|tt0000003|       2|     Szegény Pierrot|    HU|      \\N|imdbDisplay|                  \\N|              0|\n",
      "|tt0000003|       3|        哀れなピエロ|    JP|      ja|imdbDisplay|                  \\N|              0|\n",
      "|tt0000003|       4|        Бідний П'єро|    UA|      \\N|imdbDisplay|                  \\N|              0|\n",
      "+---------+--------+--------------------+------+--------+-----------+--------------------+---------------+\n",
      "only showing top 20 rows\n",
      "\n",
      "title.crew.tsv : ['tconst', 'directors', 'writers']\n",
      "+---------+-------------------+---------+\n",
      "|   tconst|          directors|  writers|\n",
      "+---------+-------------------+---------+\n",
      "|tt0000001|          nm0005690|       \\N|\n",
      "|tt0000002|          nm0721526|       \\N|\n",
      "|tt0000003|          nm0721526|       \\N|\n",
      "|tt0000004|          nm0721526|       \\N|\n",
      "|tt0000005|          nm0005690|       \\N|\n",
      "|tt0000006|          nm0005690|       \\N|\n",
      "|tt0000007|nm0005690,nm0374658|       \\N|\n",
      "|tt0000008|          nm0005690|       \\N|\n",
      "|tt0000009|          nm0085156|nm0085156|\n",
      "|tt0000010|          nm0525910|       \\N|\n",
      "|tt0000011|          nm0804434|       \\N|\n",
      "|tt0000012|nm0525910,nm0525908|       \\N|\n",
      "|tt0000013|          nm0525910|       \\N|\n",
      "|tt0000014|          nm0525910|       \\N|\n",
      "|tt0000015|          nm0721526|       \\N|\n",
      "|tt0000016|          nm0525910|       \\N|\n",
      "|tt0000017|nm1587194,nm0804434|       \\N|\n",
      "|tt0000018|          nm0804434|       \\N|\n",
      "|tt0000019|          nm0932055|       \\N|\n",
      "|tt0000020|          nm0010291|       \\N|\n",
      "+---------+-------------------+---------+\n",
      "only showing top 20 rows\n",
      "\n",
      "title.principals.tsv : ['tconst', 'ordering', 'nconst', 'category', 'job', 'characters']\n",
      "+---------+--------+---------+---------------+--------------------+--------------+\n",
      "|   tconst|ordering|   nconst|       category|                 job|    characters|\n",
      "+---------+--------+---------+---------------+--------------------+--------------+\n",
      "|tt0000001|       1|nm1588970|           self|                  \\N|      [\"Self\"]|\n",
      "|tt0000001|       2|nm0005690|       director|                  \\N|            \\N|\n",
      "|tt0000001|       3|nm0374658|cinematographer|director of photo...|            \\N|\n",
      "|tt0000002|       1|nm0721526|       director|                  \\N|            \\N|\n",
      "|tt0000002|       2|nm1335271|       composer|                  \\N|            \\N|\n",
      "|tt0000003|       1|nm0721526|       director|                  \\N|            \\N|\n",
      "|tt0000003|       2|nm1770680|       producer|            producer|            \\N|\n",
      "|tt0000003|       3|nm1335271|       composer|                  \\N|            \\N|\n",
      "|tt0000003|       4|nm5442200|         editor|                  \\N|            \\N|\n",
      "|tt0000004|       1|nm0721526|       director|                  \\N|            \\N|\n",
      "|tt0000004|       2|nm1335271|       composer|                  \\N|            \\N|\n",
      "|tt0000005|       1|nm0443482|          actor|                  \\N|[\"Blacksmith\"]|\n",
      "|tt0000005|       2|nm0653042|          actor|                  \\N| [\"Assistant\"]|\n",
      "|tt0000005|       3|nm0005690|       director|                  \\N|            \\N|\n",
      "|tt0000005|       4|nm0249379|       producer|            producer|            \\N|\n",
      "|tt0000006|       1|nm0005690|       director|                  \\N|            \\N|\n",
      "|tt0000007|       1|nm0179163|          actor|                  \\N|            \\N|\n",
      "|tt0000007|       2|nm0183947|          actor|                  \\N|            \\N|\n",
      "|tt0000007|       3|nm0005690|       director|                  \\N|            \\N|\n",
      "|tt0000007|       4|nm0374658|       director|                  \\N|            \\N|\n",
      "+---------+--------+---------+---------------+--------------------+--------------+\n",
      "only showing top 20 rows\n",
      "\n",
      "title.ratings.tsv : ['tconst', 'averageRating', 'numVotes']\n",
      "+---------+-------------+--------+\n",
      "|   tconst|averageRating|numVotes|\n",
      "+---------+-------------+--------+\n",
      "|tt0000001|          5.7|    1989|\n",
      "|tt0000002|          5.8|     265|\n",
      "|tt0000003|          6.5|    1850|\n",
      "|tt0000004|          5.5|     178|\n",
      "|tt0000005|          6.2|    2635|\n",
      "|tt0000006|          5.0|     183|\n",
      "|tt0000007|          5.4|     825|\n",
      "|tt0000008|          5.4|    2128|\n",
      "|tt0000009|          5.3|     206|\n",
      "|tt0000010|          6.9|    7230|\n",
      "|tt0000011|          5.3|     369|\n",
      "|tt0000012|          7.4|   12361|\n",
      "|tt0000013|          5.7|    1897|\n",
      "|tt0000014|          7.1|    5562|\n",
      "|tt0000015|          6.2|    1097|\n",
      "|tt0000016|          5.9|    1520|\n",
      "|tt0000017|          4.6|     329|\n",
      "|tt0000018|          5.3|     599|\n",
      "|tt0000019|          4.8|      32|\n",
      "|tt0000020|          4.8|     364|\n",
      "+---------+-------------+--------+\n",
      "only showing top 20 rows\n",
      "\n",
      "title.episode.tsv : ['tconst', 'parentTconst', 'seasonNumber', 'episodeNumber']\n",
      "+---------+------------+------------+-------------+\n",
      "|   tconst|parentTconst|seasonNumber|episodeNumber|\n",
      "+---------+------------+------------+-------------+\n",
      "|tt0041951|   tt0041038|           1|            9|\n",
      "|tt0042816|   tt0989125|           1|           17|\n",
      "|tt0042889|   tt0989125|        null|         null|\n",
      "|tt0043426|   tt0040051|           3|           42|\n",
      "|tt0043631|   tt0989125|           2|           16|\n",
      "|tt0043693|   tt0989125|           2|            8|\n",
      "|tt0043710|   tt0989125|           3|            3|\n",
      "|tt0044093|   tt0959862|           1|            6|\n",
      "|tt0044668|   tt0044243|           2|           16|\n",
      "|tt0044901|   tt0989125|           3|           46|\n",
      "|tt0045519|   tt0989125|           4|           11|\n",
      "|tt0045960|   tt0044284|           2|            3|\n",
      "|tt0046135|   tt0989125|           4|            5|\n",
      "|tt0046150|   tt0341798|        null|         null|\n",
      "|tt0046855|   tt0046643|           1|            4|\n",
      "|tt0046864|   tt0989125|           5|           20|\n",
      "|tt0047810|   tt0914702|           3|           36|\n",
      "|tt0047852|   tt0047745|           1|           15|\n",
      "|tt0047858|   tt0046637|           2|            9|\n",
      "|tt0047961|   tt0989125|           6|            5|\n",
      "+---------+------------+------------+-------------+\n",
      "only showing top 20 rows\n",
      "\n"
     ]
    }
   ],
   "source": [
    "for df, name in zip(dfs, df_names):\n",
    "    print(name, \":\", df.columns)\n",
    "    df.show()"
   ]
  },
  {
   "cell_type": "code",
   "execution_count": 13,
   "id": "7d0067b2-b272-4983-9213-a41f1b27e6ba",
   "metadata": {},
   "outputs": [
    {
     "name": "stdout",
     "output_type": "stream",
     "text": [
      "name.basics 12725345\n",
      "title.basics.tsv 10039412\n",
      "title.akas.tsv 36740603\n",
      "title.crew.tsv 10041816\n",
      "title.principals.tsv 57395516\n",
      "title.ratings.tsv 1333579\n",
      "title.episode.tsv 7639320\n"
     ]
    }
   ],
   "source": [
    "for df, name in zip(dfs, df_names):\n",
    "    print(name, df.count())"
   ]
  },
  {
   "cell_type": "markdown",
   "id": "624559df-5e37-4948-bbe8-c9113ec49b72",
   "metadata": {},
   "source": [
    "### Data Preprocessing"
   ]
  },
  {
   "cell_type": "markdown",
   "id": "5406eaa3-3020-4143-b3c3-69058f05c5ed",
   "metadata": {},
   "source": [
    "#### Explode columns with multiple values"
   ]
  },
  {
   "cell_type": "code",
   "execution_count": 14,
   "id": "2918e407-137d-4ecf-8f42-f263ded8343c",
   "metadata": {},
   "outputs": [],
   "source": [
    "def explode_and_drop(df, old_col, new_col):\n",
    "    df = df.withColumn(old_col, f.split(f.col(old_col), \",\"))\n",
    "    df = df.select(\"*\", f.explode(f.col(old_col)).alias(new_col))\n",
    "    df = df.drop(old_col)\n",
    "    return df"
   ]
  },
  {
   "cell_type": "code",
   "execution_count": 15,
   "id": "c6e0b275-6b55-4c07-b560-1e7dbc26052a",
   "metadata": {},
   "outputs": [],
   "source": [
    "name_basics_df = explode_and_drop(name_basics_df, \"primaryProfession\", \"Profession\")"
   ]
  },
  {
   "cell_type": "code",
   "execution_count": 16,
   "id": "fb8e262e-02bf-46e8-83c3-b2959a1c97a1",
   "metadata": {},
   "outputs": [],
   "source": [
    "name_basics_df = explode_and_drop(name_basics_df, \"knownForTitles\", \"knownForTitle\")"
   ]
  },
  {
   "cell_type": "code",
   "execution_count": 17,
   "id": "dfae4adc-06b1-4310-a3ba-5ec6e344b962",
   "metadata": {
    "scrolled": true
   },
   "outputs": [],
   "source": [
    "title_basics_df = explode_and_drop(title_basics_df, \"genres\", \"genre\")"
   ]
  },
  {
   "cell_type": "code",
   "execution_count": 18,
   "id": "9b4861e3-8042-4234-af97-f4fab70da802",
   "metadata": {},
   "outputs": [],
   "source": [
    "title_crew_df = explode_and_drop(title_crew_df, \"directors\", \"director\")"
   ]
  },
  {
   "cell_type": "markdown",
   "id": "1b060276-000c-4f08-9425-7f7168b7f6d2",
   "metadata": {},
   "source": [
    "#### Drop useless columns"
   ]
  },
  {
   "cell_type": "code",
   "execution_count": 19,
   "id": "acf6b5e2-01f4-4740-8bb9-1bffee3eef82",
   "metadata": {},
   "outputs": [],
   "source": [
    "title_basics_df = title_basics_df.drop(\"endYear\")"
   ]
  },
  {
   "cell_type": "code",
   "execution_count": 20,
   "id": "cb5abd3d-6478-4620-bc6f-1f014ed1e54d",
   "metadata": {},
   "outputs": [],
   "source": [
    "title_akas_df = title_akas_df.drop(\"language\", \"isOriginalTitle\")"
   ]
  },
  {
   "cell_type": "code",
   "execution_count": 21,
   "id": "fa41bd4a-0c2b-46d0-8287-e4c3e1fc4bc9",
   "metadata": {},
   "outputs": [],
   "source": [
    "title_crew_df = title_crew_df.drop(\"writers\")"
   ]
  },
  {
   "cell_type": "code",
   "execution_count": 22,
   "id": "8b7c8b79-1270-4993-b8c8-4b227a1b78ea",
   "metadata": {},
   "outputs": [],
   "source": [
    "title_principals_df = title_principals_df.drop(\"characters\", \"job\")"
   ]
  },
  {
   "cell_type": "code",
   "execution_count": 23,
   "id": "74b00cda-8ee5-4512-a3cf-ae96e9e938ab",
   "metadata": {},
   "outputs": [],
   "source": [
    "dfs = [name_basics_df, title_basics_df, title_akas_df, title_crew_df, title_principals_df, title_ratings_df, title_episode_df]\n"
   ]
  },
  {
   "cell_type": "markdown",
   "id": "0ea3cf76-fd85-48da-a079-e1509baeab65",
   "metadata": {},
   "source": [
    "### Business Questions"
   ]
  },
  {
   "cell_type": "markdown",
   "id": "735f013a-0c71-4388-94ff-374c87b2c0c0",
   "metadata": {},
   "source": [
    "#### Q1: Which directors are associated with the highest number of titles (movies/TV shows) in the database?"
   ]
  },
  {
   "cell_type": "code",
   "execution_count": 25,
   "id": "344aea7c-9c66-4b1d-ab3a-43f9fbc826de",
   "metadata": {},
   "outputs": [
    {
     "name": "stdout",
     "output_type": "stream",
     "text": [
      "+---------+-------+\n",
      "| director| Titles|\n",
      "+---------+-------+\n",
      "|       \\N|4266256|\n",
      "|nm1203430|  12790|\n",
      "|nm1966600|  12368|\n",
      "|nm8467983|  11585|\n",
      "|nm1409127|  10365|\n",
      "|nm1667633|   8984|\n",
      "+---------+-------+\n",
      "only showing top 6 rows\n",
      "\n"
     ]
    }
   ],
   "source": [
    "directors_with_num_of_firected_films_df = title_crew_df.groupBy('director').agg(f.count(\"tconst\").alias(\"Titles\")).orderBy(\"Titles\", ascending=False)\n",
    "directors_with_num_of_firected_films_df.show(6)"
   ]
  },
  {
   "cell_type": "markdown",
   "id": "179aa36c-e019-4b9e-ae1a-be30ab56dcc7",
   "metadata": {},
   "source": [
    "#### Q2: Highest ranked films where there are more than 2 million votes Films directed by the director of the best rated film"
   ]
  },
  {
   "cell_type": "code",
   "execution_count": 27,
   "id": "0a6d3f7b-120c-4960-ae2c-26aeece6e5ae",
   "metadata": {},
   "outputs": [],
   "source": [
    "highest_ranked_films_df_filtered = title_ratings_df.filter(title_ratings_df.numVotes > 2000000).orderBy(\"averageRating\", ascending=False)"
   ]
  },
  {
   "cell_type": "code",
   "execution_count": 28,
   "id": "d2e0425a-5f7c-42ed-b17f-693082688a0d",
   "metadata": {},
   "outputs": [
    {
     "name": "stdout",
     "output_type": "stream",
     "text": [
      "+---------+-------------+--------+\n",
      "|   tconst|averageRating|numVotes|\n",
      "+---------+-------------+--------+\n",
      "|tt0903747|          9.5| 2009512|\n",
      "|tt0111161|          9.3| 2773389|\n",
      "|tt0944947|          9.2| 2185187|\n",
      "|tt0468569|          9.0| 2749040|\n",
      "|tt0110912|          8.9| 2128442|\n",
      "|tt0109830|          8.8| 2156978|\n",
      "|tt0137523|          8.8| 2209229|\n",
      "|tt1375666|          8.8| 2439868|\n",
      "+---------+-------------+--------+\n",
      "\n"
     ]
    }
   ],
   "source": [
    "highest_ranked_films_df_filtered.show()"
   ]
  },
  {
   "cell_type": "code",
   "execution_count": 29,
   "id": "a1485d78-7d99-47fd-b119-e089875bb8a0",
   "metadata": {},
   "outputs": [
    {
     "name": "stdout",
     "output_type": "stream",
     "text": [
      "+---------+-------------+--------+---------+--------------------+--------------------+-------+---------+--------------+------+\n",
      "|   tconst|averageRating|numVotes|titleType|        primaryTitle|       originalTitle|isAdult|startYear|runtimeMinutes| genre|\n",
      "+---------+-------------+--------+---------+--------------------+--------------------+-------+---------+--------------+------+\n",
      "|tt1375666|          8.8| 2439868|    movie|           Inception|           Inception|      0|     2010|           148|Action|\n",
      "|tt0137523|          8.8| 2209229|    movie|          Fight Club|          Fight Club|      0|     1999|           139| Drama|\n",
      "|tt0468569|          9.0| 2749040|    movie|     The Dark Knight|     The Dark Knight|      0|     2008|           152|Action|\n",
      "|tt0111161|          9.3| 2773389|    movie|The Shawshank Red...|The Shawshank Red...|      0|     1994|           142| Drama|\n",
      "|tt0944947|          9.2| 2185187| tvSeries|     Game of Thrones|     Game of Thrones|      0|     2011|            57|Action|\n",
      "|tt0110912|          8.9| 2128442|    movie|        Pulp Fiction|        Pulp Fiction|      0|     1994|           154| Crime|\n",
      "|tt0903747|          9.5| 2009512| tvSeries|        Breaking Bad|        Breaking Bad|      0|     2008|            49| Crime|\n",
      "|tt0109830|          8.8| 2156978|    movie|        Forrest Gump|        Forrest Gump|      0|     1994|           142| Drama|\n",
      "+---------+-------------+--------+---------+--------------------+--------------------+-------+---------+--------------+------+\n",
      "\n"
     ]
    }
   ],
   "source": [
    "highest_ranked_films_df_joined = highest_ranked_films_df_filtered.join(title_basics_df.dropDuplicates((['tconst'])), on='tconst', how='inner')\n",
    "highest_ranked_films_df_joined.show()"
   ]
  },
  {
   "cell_type": "markdown",
   "id": "48ea372f-5103-4d58-807c-e2d58c7aa829",
   "metadata": {},
   "source": [
    "#### Q3: Which TV special for adults has the longest duration"
   ]
  },
  {
   "cell_type": "code",
   "execution_count": 32,
   "id": "a233d4ad-63e8-4ec4-8659-1f69d0d77244",
   "metadata": {},
   "outputs": [
    {
     "name": "stdout",
     "output_type": "stream",
     "text": [
      "+----------+---------+--------------------+--------------------+-------+---------+--------------+-----+\n",
      "|    tconst|titleType|        primaryTitle|       originalTitle|isAdult|startYear|runtimeMinutes|genre|\n",
      "+----------+---------+--------------------+--------------------+-------+---------+--------------+-----+\n",
      "| tt9694594|tvSpecial|Best in Sex: 2019...|Best in Sex: 2019...|      1|     2019|            90|Adult|\n",
      "| tt1821320|tvSpecial|The 2008 AVN Adul...|The 2008 AVN Adul...|      1|     2008|            87|Adult|\n",
      "| tt8475784|tvSpecial|Best in Sex: 2018...|Best in Sex: 2018...|      1|     2018|            87|Adult|\n",
      "| tt1627882|tvSpecial|The 2009 AVN Adul...|The 2009 AVN Adul...|      1|     2009|            80| News|\n",
      "| tt6741116|tvSpecial|Best in Sex: 2016...|Best in Sex: 2016...|      1|     2016|            80|Adult|\n",
      "|tt11889164|tvSpecial|Best in Sex: 2020...|Best in Sex: 2020...|      1|     2020|            71|Adult|\n",
      "|tt14570830|tvSpecial|Majuu Jouka Shouj...|Majuu Jouka Shouj...|      1|     2015|            66|Adult|\n",
      "|tt10970828|tvSpecial|Step Dad Sneaking...|Step Dad Sneaking...|      1|     2017|            65|Adult|\n",
      "| tt2335496|tvSpecial|2012 AVN Red Carp...|2012 AVN Awards Show|      1|     2012|            30|Adult|\n",
      "|tt14881470|tvSpecial|              Garden|              Garden|      1|     2013|            28|Adult|\n",
      "|tt14880708|tvSpecial|             Dropout|             Dropout|      1|     2016|            17|Adult|\n",
      "+----------+---------+--------------------+--------------------+-------+---------+--------------+-----+\n",
      "\n"
     ]
    }
   ],
   "source": [
    "tv_special_df = title_basics_df.filter((title_basics_df.titleType == \"tvSpecial\") & f.col(\"runtimeMinutes\").isNotNull())\n",
    "tv_special_adults_df = tv_special_df.where(f.col(\"isAdult\") == 1).dropDuplicates([\"tconst\"]).orderBy(\"runtimeMinutes\", ascending=False)\n",
    "tv_special_adults_df.show()"
   ]
  },
  {
   "cell_type": "markdown",
   "id": "5bf6f1a5-ee1b-4f94-9b0b-a22fcfca2647",
   "metadata": {},
   "source": [
    "#### Q4: What are the most popular genres for every content type (titleType)"
   ]
  },
  {
   "cell_type": "code",
   "execution_count": 37,
   "id": "c08e8adf-2753-418f-a6bc-7046846b8846",
   "metadata": {},
   "outputs": [
    {
     "name": "stdout",
     "output_type": "stream",
     "text": [
      "+---------+-----------+------+\n",
      "|titleType|      genre| Count|\n",
      "+---------+-----------+------+\n",
      "|    movie|     Action| 54425|\n",
      "|    movie|      Adult|  9216|\n",
      "|    movie|  Adventure| 28421|\n",
      "|    movie|  Animation|  9229|\n",
      "|    movie|  Biography| 17411|\n",
      "|    movie|     Comedy|109996|\n",
      "|    movie|      Crime| 37595|\n",
      "|    movie|Documentary|124025|\n",
      "|    movie|      Drama|236457|\n",
      "|    movie|     Family| 17801|\n",
      "|    movie|    Fantasy| 15500|\n",
      "|    movie|  Film-Noir|   882|\n",
      "|    movie|  Game-Show|    25|\n",
      "|    movie|    History| 14428|\n",
      "|    movie|     Horror| 37612|\n",
      "|    movie|      Music| 13777|\n",
      "|    movie|    Musical| 10294|\n",
      "|    movie|    Mystery| 17274|\n",
      "|    movie|       News|  1449|\n",
      "|    movie| Reality-TV|   522|\n",
      "+---------+-----------+------+\n",
      "only showing top 20 rows\n",
      "\n"
     ]
    }
   ],
   "source": [
    "# First, calculate the count of each genre within its corresponding titleType partition\n",
    "content_genres_window = Window.partitionBy(\"titleType\", \"genre\").orderBy(\"titleType\")\n",
    "content_genres_df = title_basics_df.withColumn(\"Count\", f.count(f.col(\"genre\")).over(content_genres_window)).select(\"titleType\", \"genre\", \"Count\").distinct()\n",
    "content_genres_df.show()"
   ]
  },
  {
   "cell_type": "code",
   "execution_count": 43,
   "id": "bfde1b49-d240-4527-b808-dda60515b13f",
   "metadata": {},
   "outputs": [
    {
     "name": "stdout",
     "output_type": "stream",
     "text": [
      "+------------+-----------+-------+\n",
      "|   titleType|      genre|  Count|\n",
      "+------------+-----------+-------+\n",
      "|       movie|      Drama| 236457|\n",
      "|       short|      Short| 887483|\n",
      "|   tvEpisode|      Drama|2224130|\n",
      "|tvMiniSeries|      Drama|  11724|\n",
      "|     tvMovie|Documentary|  45738|\n",
      "|     tvPilot|         \\N|      1|\n",
      "|    tvSeries|     Comedy|  57246|\n",
      "|     tvShort|      Short|   9244|\n",
      "|   tvSpecial|      Music|  11268|\n",
      "|       video|      Short| 115960|\n",
      "|   videoGame|     Action|  14566|\n",
      "+------------+-----------+-------+\n",
      "\n"
     ]
    }
   ],
   "source": [
    "# Then, find the genre with the highest count for each titleType\n",
    "genre_rank_window = Window.partitionBy(\"titleType\").orderBy(f.col(\"Count\").desc())\n",
    "content_genres_df_with_rank = content_genres_df.withColumn(\"Rank\", f.max(f.col(\"Count\")).over(genre_rank_window))\n",
    "content_genres_max_df = content_genres_df_with_rank.where(f.col(\"Count\") == f.col(\"Rank\")).drop(\"Rank\")\n",
    "content_genres_max_df.show()"
   ]
  },
  {
   "cell_type": "markdown",
   "id": "6df7bc36-86c6-430c-877d-7a6d3df29d10",
   "metadata": {},
   "source": [
    "#### Q5: How many episodes are there on average per TV show?"
   ]
  },
  {
   "cell_type": "code",
   "execution_count": null,
   "id": "c14f1fad-fe0e-48bb-ad63-ffdae966ada4",
   "metadata": {},
   "outputs": [],
   "source": []
  },
  {
   "cell_type": "markdown",
   "id": "587e7496-0cd2-4255-a9cb-5ee39dc19783",
   "metadata": {},
   "source": [
    "#### Q6: Which actors or actresses have appeared in the most episodes?"
   ]
  },
  {
   "cell_type": "code",
   "execution_count": null,
   "id": "11f732f5-547c-4d2a-83d4-1ca97c5663aa",
   "metadata": {},
   "outputs": [],
   "source": []
  },
  {
   "cell_type": "markdown",
   "id": "c9b757be-4af2-432f-92eb-d1278ebfdf18",
   "metadata": {},
   "source": [
    "#### Q7: Actors that lived the most"
   ]
  },
  {
   "cell_type": "code",
   "execution_count": null,
   "id": "3ee59bf1-b9f3-45e8-abbc-560684037a3d",
   "metadata": {},
   "outputs": [],
   "source": []
  },
  {
   "cell_type": "markdown",
   "id": "f68a5763-c958-43ae-a6e4-94bb552a0fb7",
   "metadata": {},
   "source": [
    "#### Q8: Actors that worket in yhe film industry the most"
   ]
  },
  {
   "cell_type": "code",
   "execution_count": null,
   "id": "1347d465-2555-443a-8e10-9d1856f7745c",
   "metadata": {},
   "outputs": [],
   "source": []
  },
  {
   "cell_type": "markdown",
   "id": "5c4877ef-bd75-4a9d-817b-8e63d132d5f7",
   "metadata": {},
   "source": [
    "#### Q9: What is the average rating of movies in the database?"
   ]
  },
  {
   "cell_type": "code",
   "execution_count": null,
   "id": "67e9ac41-7426-4f56-94fd-4bac4bfae6c9",
   "metadata": {},
   "outputs": [],
   "source": []
  }
 ],
 "metadata": {
  "kernelspec": {
   "display_name": "Python 3 (ipykernel)",
   "language": "python",
   "name": "python3"
  },
  "language_info": {
   "codemirror_mode": {
    "name": "ipython",
    "version": 3
   },
   "file_extension": ".py",
   "mimetype": "text/x-python",
   "name": "python",
   "nbconvert_exporter": "python",
   "pygments_lexer": "ipython3",
   "version": "3.11.4"
  }
 },
 "nbformat": 4,
 "nbformat_minor": 5
}

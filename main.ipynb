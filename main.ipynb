{
 "cells": [
  {
   "cell_type": "code",
   "execution_count": 1,
   "id": "fed4ae68-020b-4af6-9536-6835c5545255",
   "metadata": {},
   "outputs": [],
   "source": [
    "from pyspark import SparkConf\n",
    "from pyspark.sql import SparkSession, Window\n",
    "import pyspark.sql.functions as f\n",
    "import pyspark.sql.types as t"
   ]
  },
  {
   "cell_type": "code",
   "execution_count": 2,
   "id": "56fb84d7-9de0-4ca9-b495-3f59c027b4c3",
   "metadata": {},
   "outputs": [],
   "source": [
    "spark_session = (SparkSession.builder\n",
    "                .master('local')\n",
    "                .appName('Big Data Project')\n",
    "                .config(conf=SparkConf())\n",
    "                .getOrCreate())"
   ]
  },
  {
   "cell_type": "markdown",
   "id": "73b609af-4835-454c-a9a8-fba4ceed909f",
   "metadata": {},
   "source": [
    "### Define the schemas"
   ]
  },
  {
   "cell_type": "code",
   "execution_count": 3,
   "id": "547f7d39-52c0-45f2-b017-f4367ff8b4fb",
   "metadata": {},
   "outputs": [],
   "source": [
    "name_basics_schema = t.StructType([\n",
    "    t.StructField(\"nconst\", t.StringType(), nullable=False),\n",
    "    t.StructField(\"primaryName\", t.StringType(), nullable=False),\n",
    "    t.StructField(\"birthYear\", t.IntegerType(), nullable=True),\n",
    "    t.StructField(\"deathYear\", t.IntegerType(), nullable=True),\n",
    "    t.StructField(\"primaryProfession\", t.StringType(), nullable=True),\n",
    "    t.StructField(\"knownForTitles\", t.StringType(), nullable=True)\n",
    "])"
   ]
  },
  {
   "cell_type": "code",
   "execution_count": 157,
   "id": "7ff70f0d-3989-4bf9-9d67-1acc04f6e9cf",
   "metadata": {},
   "outputs": [],
   "source": [
    "# Define the schema for the 'title.basics.tsv' table\n",
    "title_basics_schema = t.StructType([\n",
    "    t.StructField(\"tconst\", t.StringType(), nullable=False),\n",
    "    t.StructField(\"titleType\", t.StringType(), nullable=True),\n",
    "    t.StructField(\"primaryTitle\", t.StringType(), nullable=True),\n",
    "    t.StructField(\"originalTitle\", t.StringType(), nullable=True),\n",
    "    t.StructField(\"isAdult\", t.IntegerType(), nullable=True),\n",
    "    t.StructField(\"startYear\", t.IntegerType(), nullable=True),\n",
    "    t.StructField(\"endYear\", t.IntegerType(), nullable=True),\n",
    "    t.StructField(\"runtimeMinutes\", t.IntegerType(), nullable=True),\n",
    "    t.StructField(\"genres\", t.StringType(), nullable=True)\n",
    "])\n"
   ]
  },
  {
   "cell_type": "code",
   "execution_count": 5,
   "id": "f5ab9dfd-43c7-465c-a713-d7007694d3dd",
   "metadata": {},
   "outputs": [],
   "source": [
    "# Define the schema for the 'title.akas.tsv' table\n",
    "title_akas_schema = t.StructType([\n",
    "    t.StructField(\"titleId\", t.StringType(), nullable=False),\n",
    "    t.StructField(\"ordering\", t.IntegerType(), nullable=True),\n",
    "    t.StructField(\"title\", t.StringType(), nullable=True),\n",
    "    t.StructField(\"region\", t.StringType(), nullable=True),\n",
    "    t.StructField(\"language\",t.StringType(), nullable=True),\n",
    "    t.StructField(\"types\", t.StringType(), nullable=True),\n",
    "    t.StructField(\"attributes\", t.StringType(), nullable=True),\n",
    "    t.StructField(\"isOriginalTitle\", t.IntegerType(), nullable=True)\n",
    "])"
   ]
  },
  {
   "cell_type": "code",
   "execution_count": 6,
   "id": "cc25c596-f2a3-408f-801e-841be6aea59b",
   "metadata": {},
   "outputs": [],
   "source": [
    "# Define the schema for the 'title.crew.tsv' table\n",
    "title_crew_schema = t.StructType([\n",
    "    t.StructField(\"tconst\", t.StringType(), nullable=False),\n",
    "    t.StructField(\"directors\", t.StringType(), nullable=True),\n",
    "    t.StructField(\"writers\", t.StringType(), nullable=True)\n",
    "])"
   ]
  },
  {
   "cell_type": "code",
   "execution_count": 7,
   "id": "322b48f2-db6c-4d93-8156-329d02591d2e",
   "metadata": {},
   "outputs": [],
   "source": [
    "# Define the schema for the 'title.principals.tsv' table\n",
    "title_principals_schema = t.StructType([\n",
    "    t.StructField(\"tconst\", t.StringType(), nullable=False),\n",
    "    t.StructField(\"ordering\", t.IntegerType(), nullable=True),\n",
    "    t.StructField(\"nconst\", t.StringType(), nullable=True),\n",
    "    t.StructField(\"category\", t.StringType(), nullable=True),\n",
    "    t.StructField(\"job\", t.StringType(), nullable=True),\n",
    "    t.StructField(\"characters\", t.StringType(), nullable=True)\n",
    "])"
   ]
  },
  {
   "cell_type": "code",
   "execution_count": 8,
   "id": "e1678ba2-89f2-4c64-b221-bae55852c959",
   "metadata": {},
   "outputs": [],
   "source": [
    "# Define the schema for the 'title.ratings.tsv' table\n",
    "title_ratings_schema = t.StructType([\n",
    "    t.StructField(\"tconst\", t.StringType(), nullable=False),\n",
    "    t.StructField(\"averageRating\", t.FloatType(), nullable=True),\n",
    "    t.StructField(\"numVotes\", t.IntegerType(), nullable=True)\n",
    "])"
   ]
  },
  {
   "cell_type": "code",
   "execution_count": 9,
   "id": "300f9979-9405-4e3e-a66d-f9a91a554e98",
   "metadata": {},
   "outputs": [],
   "source": [
    "# Define the schema for the 'title.episode.tsv' table\n",
    "title_episode_schema = t.StructType([\n",
    "    t.StructField(\"tconst\", t.StringType(), nullable=False),\n",
    "    t.StructField(\"parentTconst\", t.StringType(), nullable=True),\n",
    "    t.StructField(\"seasonNumber\", t.IntegerType(), nullable=True),\n",
    "    t.StructField(\"episodeNumber\", t.IntegerType(), nullable=True)\n",
    "])"
   ]
  },
  {
   "cell_type": "markdown",
   "id": "bd3f00cb-9664-4b06-abc4-217315199223",
   "metadata": {},
   "source": [
    "### Read the datasets"
   ]
  },
  {
   "cell_type": "code",
   "execution_count": 158,
   "id": "a20a724b-949b-4350-b44b-bcad6ca3ac45",
   "metadata": {},
   "outputs": [],
   "source": [
    "name_basics_df = spark_session.read.csv(\"imdb/name.basics.tsv\", sep=r'\\t', header=True, schema=name_basics_schema)\n",
    "title_basics_df = spark_session.read.csv(\"imdb/title.basics.tsv\", sep=r'\\t', header=True, schema=title_basics_schema)\n",
    "title_akas_df = spark_session.read.csv(\"imdb/title.akas.tsv\", sep=r'\\t', header=True, schema=title_akas_schema)\n",
    "title_crew_df = spark_session.read.csv(\"imdb/title.crew.tsv\", sep=r'\\t', header=True, schema=title_crew_schema)\n",
    "title_principals_df = spark_session.read.csv(\"imdb/title.principals.tsv\", sep=r'\\t', header=True, schema=title_principals_schema)\n",
    "title_ratings_df = spark_session.read.csv(\"imdb/title.ratings.tsv\", sep=r'\\t', header=True, schema=title_ratings_schema)\n",
    "title_episode_df = spark_session.read.csv(\"imdb/title.episode.tsv\", sep=r'\\t', header=True, schema=title_episode_schema)"
   ]
  },
  {
   "cell_type": "code",
   "execution_count": 159,
   "id": "c9cfdc93-c05a-4d5d-b41f-256d361c46f5",
   "metadata": {},
   "outputs": [],
   "source": [
    "dfs = [name_basics_df, title_basics_df, title_akas_df, title_crew_df, title_principals_df, title_ratings_df, title_episode_df]\n",
    "df_names = [\"name.basics\", \"title.basics.tsv\", \"title.akas.tsv\", \"title.crew.tsv\", \"title.principals.tsv\", \"title.ratings.tsv\", \"title.episode.tsv\"]"
   ]
  },
  {
   "cell_type": "code",
   "execution_count": 174,
   "id": "811251e2-73d3-49f1-91f3-b0eb9262da64",
   "metadata": {
    "scrolled": true
   },
   "outputs": [
    {
     "name": "stdout",
     "output_type": "stream",
     "text": [
      "name.basics : ['nconst', 'primaryName', 'birthYear', 'deathYear', 'Profession', 'knownForTitle']\n",
      "+---------+-------------+---------+---------+-------------+-------------+\n",
      "|   nconst|  primaryName|birthYear|deathYear|   Profession|knownForTitle|\n",
      "+---------+-------------+---------+---------+-------------+-------------+\n",
      "|nm0000001| Fred Astaire|     1899|     1987|   soundtrack|    tt0072308|\n",
      "|nm0000001| Fred Astaire|     1899|     1987|   soundtrack|    tt0031983|\n",
      "|nm0000001| Fred Astaire|     1899|     1987|   soundtrack|    tt0053137|\n",
      "|nm0000001| Fred Astaire|     1899|     1987|   soundtrack|    tt0050419|\n",
      "|nm0000001| Fred Astaire|     1899|     1987|        actor|    tt0072308|\n",
      "|nm0000001| Fred Astaire|     1899|     1987|        actor|    tt0031983|\n",
      "|nm0000001| Fred Astaire|     1899|     1987|        actor|    tt0053137|\n",
      "|nm0000001| Fred Astaire|     1899|     1987|        actor|    tt0050419|\n",
      "|nm0000001| Fred Astaire|     1899|     1987|miscellaneous|    tt0072308|\n",
      "|nm0000001| Fred Astaire|     1899|     1987|miscellaneous|    tt0031983|\n",
      "|nm0000001| Fred Astaire|     1899|     1987|miscellaneous|    tt0053137|\n",
      "|nm0000001| Fred Astaire|     1899|     1987|miscellaneous|    tt0050419|\n",
      "|nm0000002|Lauren Bacall|     1924|     2014|      actress|    tt0037382|\n",
      "|nm0000002|Lauren Bacall|     1924|     2014|      actress|    tt0075213|\n",
      "|nm0000002|Lauren Bacall|     1924|     2014|      actress|    tt0038355|\n",
      "|nm0000002|Lauren Bacall|     1924|     2014|      actress|    tt0117057|\n",
      "|nm0000002|Lauren Bacall|     1924|     2014|   soundtrack|    tt0037382|\n",
      "|nm0000002|Lauren Bacall|     1924|     2014|   soundtrack|    tt0075213|\n",
      "|nm0000002|Lauren Bacall|     1924|     2014|   soundtrack|    tt0038355|\n",
      "|nm0000002|Lauren Bacall|     1924|     2014|   soundtrack|    tt0117057|\n",
      "+---------+-------------+---------+---------+-------------+-------------+\n",
      "only showing top 20 rows\n",
      "\n",
      "title.basics.tsv : ['tconst', 'titleType', 'primaryTitle', 'originalTitle', 'isAdult', 'startYear', 'runtimeMinutes', 'genre']\n",
      "+---------+---------+--------------------+--------------------+-------+---------+--------------+-----------+\n",
      "|   tconst|titleType|        primaryTitle|       originalTitle|isAdult|startYear|runtimeMinutes|      genre|\n",
      "+---------+---------+--------------------+--------------------+-------+---------+--------------+-----------+\n",
      "|tt0000001|    short|          Carmencita|          Carmencita|      0|     1894|             1|Documentary|\n",
      "|tt0000001|    short|          Carmencita|          Carmencita|      0|     1894|             1|      Short|\n",
      "|tt0000002|    short|Le clown et ses c...|Le clown et ses c...|      0|     1892|             5|  Animation|\n",
      "|tt0000002|    short|Le clown et ses c...|Le clown et ses c...|      0|     1892|             5|      Short|\n",
      "|tt0000003|    short|      Pauvre Pierrot|      Pauvre Pierrot|      0|     1892|             4|  Animation|\n",
      "|tt0000003|    short|      Pauvre Pierrot|      Pauvre Pierrot|      0|     1892|             4|     Comedy|\n",
      "|tt0000003|    short|      Pauvre Pierrot|      Pauvre Pierrot|      0|     1892|             4|    Romance|\n",
      "|tt0000004|    short|         Un bon bock|         Un bon bock|      0|     1892|            12|  Animation|\n",
      "|tt0000004|    short|         Un bon bock|         Un bon bock|      0|     1892|            12|      Short|\n",
      "|tt0000005|    short|    Blacksmith Scene|    Blacksmith Scene|      0|     1893|             1|     Comedy|\n",
      "|tt0000005|    short|    Blacksmith Scene|    Blacksmith Scene|      0|     1893|             1|      Short|\n",
      "|tt0000006|    short|   Chinese Opium Den|   Chinese Opium Den|      0|     1894|             1|      Short|\n",
      "|tt0000007|    short|Corbett and Court...|Corbett and Court...|      0|     1894|             1|      Short|\n",
      "|tt0000007|    short|Corbett and Court...|Corbett and Court...|      0|     1894|             1|      Sport|\n",
      "|tt0000008|    short|Edison Kinetoscop...|Edison Kinetoscop...|      0|     1894|             1|Documentary|\n",
      "|tt0000008|    short|Edison Kinetoscop...|Edison Kinetoscop...|      0|     1894|             1|      Short|\n",
      "|tt0000009|    movie|          Miss Jerry|          Miss Jerry|      0|     1894|            45|    Romance|\n",
      "|tt0000010|    short| Leaving the Factory|La sortie de l'us...|      0|     1895|             1|Documentary|\n",
      "|tt0000010|    short| Leaving the Factory|La sortie de l'us...|      0|     1895|             1|      Short|\n",
      "|tt0000011|    short|Akrobatisches Pot...|Akrobatisches Pot...|      0|     1895|             1|Documentary|\n",
      "+---------+---------+--------------------+--------------------+-------+---------+--------------+-----------+\n",
      "only showing top 20 rows\n",
      "\n",
      "title.akas.tsv : ['titleId', 'ordering', 'title', 'region', 'types', 'attributes']\n",
      "+---------+--------+--------------------+------+-----------+--------------------+\n",
      "|  titleId|ordering|               title|region|      types|          attributes|\n",
      "+---------+--------+--------------------+------+-----------+--------------------+\n",
      "|tt0000001|       1|          Карменсіта|    UA|imdbDisplay|                  \\N|\n",
      "|tt0000001|       2|          Carmencita|    DE|         \\N|       literal title|\n",
      "|tt0000001|       3|Carmencita - span...|    HU|imdbDisplay|                  \\N|\n",
      "|tt0000001|       4|          Καρμενσίτα|    GR|imdbDisplay|                  \\N|\n",
      "|tt0000001|       5|          Карменсита|    RU|imdbDisplay|                  \\N|\n",
      "|tt0000001|       6|          Carmencita|    US|imdbDisplay|                  \\N|\n",
      "|tt0000001|       7|          Carmencita|    \\N|   original|                  \\N|\n",
      "|tt0000001|       8|      カルメンチータ|    JP|imdbDisplay|                  \\N|\n",
      "|tt0000002|       1|Le clown et ses c...|    \\N|   original|                  \\N|\n",
      "|tt0000002|       2|Le clown et ses c...|    FR|imdbDisplay|                  \\N|\n",
      "|tt0000002|       3|   A bohóc és kutyái|    HU|imdbDisplay|                  \\N|\n",
      "|tt0000002|       4|Der Clown und sei...|    DE|         \\N|       literal title|\n",
      "|tt0000002|       5|Clovnul si cainii...|    RO|imdbDisplay|                  \\N|\n",
      "|tt0000002|       6|  Клоун и его собаки|    RU|imdbDisplay|                  \\N|\n",
      "|tt0000002|       7|The Clown and His...|    US|         \\N|literal English t...|\n",
      "|tt0000002|       8|          道化師と犬|    JP|imdbDisplay|                  \\N|\n",
      "|tt0000003|       1|    Sarmanul Pierrot|    RO|imdbDisplay|                  \\N|\n",
      "|tt0000003|       2|     Szegény Pierrot|    HU|imdbDisplay|                  \\N|\n",
      "|tt0000003|       3|        哀れなピエロ|    JP|imdbDisplay|                  \\N|\n",
      "|tt0000003|       4|        Бідний П'єро|    UA|imdbDisplay|                  \\N|\n",
      "+---------+--------+--------------------+------+-----------+--------------------+\n",
      "only showing top 20 rows\n",
      "\n",
      "title.crew.tsv : ['tconst', 'director']\n",
      "+---------+---------+\n",
      "|   tconst| director|\n",
      "+---------+---------+\n",
      "|tt0000001|nm0005690|\n",
      "|tt0000002|nm0721526|\n",
      "|tt0000003|nm0721526|\n",
      "|tt0000004|nm0721526|\n",
      "|tt0000005|nm0005690|\n",
      "|tt0000006|nm0005690|\n",
      "|tt0000007|nm0005690|\n",
      "|tt0000007|nm0374658|\n",
      "|tt0000008|nm0005690|\n",
      "|tt0000009|nm0085156|\n",
      "|tt0000010|nm0525910|\n",
      "|tt0000011|nm0804434|\n",
      "|tt0000012|nm0525910|\n",
      "|tt0000012|nm0525908|\n",
      "|tt0000013|nm0525910|\n",
      "|tt0000014|nm0525910|\n",
      "|tt0000015|nm0721526|\n",
      "|tt0000016|nm0525910|\n",
      "|tt0000017|nm0804434|\n",
      "|tt0000017|nm1587194|\n",
      "+---------+---------+\n",
      "only showing top 20 rows\n",
      "\n",
      "title.principals.tsv : ['tconst', 'ordering', 'nconst', 'category']\n",
      "+---------+--------+---------+---------------+\n",
      "|   tconst|ordering|   nconst|       category|\n",
      "+---------+--------+---------+---------------+\n",
      "|tt0000001|       1|nm1588970|           self|\n",
      "|tt0000001|       2|nm0005690|       director|\n",
      "|tt0000001|       3|nm0374658|cinematographer|\n",
      "|tt0000002|       1|nm0721526|       director|\n",
      "|tt0000002|       2|nm1335271|       composer|\n",
      "|tt0000003|       1|nm0721526|       director|\n",
      "|tt0000003|       2|nm1770680|       producer|\n",
      "|tt0000003|       3|nm1335271|       composer|\n",
      "|tt0000003|       4|nm5442200|         editor|\n",
      "|tt0000004|       1|nm0721526|       director|\n",
      "|tt0000004|       2|nm1335271|       composer|\n",
      "|tt0000005|       1|nm0443482|          actor|\n",
      "|tt0000005|       2|nm0653042|          actor|\n",
      "|tt0000005|       3|nm0005690|       director|\n",
      "|tt0000005|       4|nm0249379|       producer|\n",
      "|tt0000006|       1|nm0005690|       director|\n",
      "|tt0000007|       1|nm0179163|          actor|\n",
      "|tt0000007|       2|nm0183947|          actor|\n",
      "|tt0000007|       3|nm0005690|       director|\n",
      "|tt0000007|       4|nm0374658|       director|\n",
      "+---------+--------+---------+---------------+\n",
      "only showing top 20 rows\n",
      "\n",
      "title.ratings.tsv : ['tconst', 'averageRating', 'numVotes']\n",
      "+---------+-------------+--------+\n",
      "|   tconst|averageRating|numVotes|\n",
      "+---------+-------------+--------+\n",
      "|tt0000001|          5.7|    1990|\n",
      "|tt0000002|          5.8|     265|\n",
      "|tt0000003|          6.5|    1851|\n",
      "|tt0000004|          5.5|     178|\n",
      "|tt0000005|          6.2|    2636|\n",
      "|tt0000006|          5.0|     183|\n",
      "|tt0000007|          5.4|     825|\n",
      "|tt0000008|          5.4|    2128|\n",
      "|tt0000009|          5.3|     206|\n",
      "|tt0000010|          6.9|    7233|\n",
      "|tt0000011|          5.3|     369|\n",
      "|tt0000012|          7.4|   12366|\n",
      "|tt0000013|          5.7|    1897|\n",
      "|tt0000014|          7.1|    5564|\n",
      "|tt0000015|          6.2|    1098|\n",
      "|tt0000016|          5.9|    1520|\n",
      "|tt0000017|          4.6|     329|\n",
      "|tt0000018|          5.3|     599|\n",
      "|tt0000019|          4.8|      32|\n",
      "|tt0000020|          4.8|     364|\n",
      "+---------+-------------+--------+\n",
      "only showing top 20 rows\n",
      "\n",
      "title.episode.tsv : ['tconst', 'parentTconst', 'seasonNumber', 'episodeNumber']\n",
      "+---------+------------+------------+-------------+\n",
      "|   tconst|parentTconst|seasonNumber|episodeNumber|\n",
      "+---------+------------+------------+-------------+\n",
      "|tt0041951|   tt0041038|           1|            9|\n",
      "|tt0042816|   tt0989125|           1|           17|\n",
      "|tt0042889|   tt0989125|        null|         null|\n",
      "|tt0043426|   tt0040051|           3|           42|\n",
      "|tt0043631|   tt0989125|           2|           16|\n",
      "|tt0043693|   tt0989125|           2|            8|\n",
      "|tt0043710|   tt0989125|           3|            3|\n",
      "|tt0044093|   tt0959862|           1|            6|\n",
      "|tt0044668|   tt0044243|           2|           16|\n",
      "|tt0044901|   tt0989125|           3|           46|\n",
      "|tt0045519|   tt0989125|           4|           11|\n",
      "|tt0045960|   tt0044284|           2|            3|\n",
      "|tt0046135|   tt0989125|           4|            5|\n",
      "|tt0046150|   tt0341798|        null|         null|\n",
      "|tt0046855|   tt0046643|           1|            4|\n",
      "|tt0046864|   tt0989125|           5|           20|\n",
      "|tt0047810|   tt0914702|           3|           36|\n",
      "|tt0047852|   tt0047745|           1|           15|\n",
      "|tt0047858|   tt0046637|           2|            9|\n",
      "|tt0047961|   tt0989125|           6|            5|\n",
      "+---------+------------+------------+-------------+\n",
      "only showing top 20 rows\n",
      "\n"
     ]
    }
   ],
   "source": [
    "for df, name in zip(dfs, df_names):\n",
    "    print(name, \":\", df.columns)\n",
    "    df.show()"
   ]
  },
  {
   "cell_type": "code",
   "execution_count": 161,
   "id": "7d0067b2-b272-4983-9213-a41f1b27e6ba",
   "metadata": {},
   "outputs": [
    {
     "name": "stdout",
     "output_type": "stream",
     "text": [
      "name.basics 12727713\n",
      "title.basics.tsv 10044533\n",
      "title.akas.tsv 36761777\n",
      "title.crew.tsv 10044533\n",
      "title.principals.tsv 57431166\n",
      "title.ratings.tsv 1334225\n",
      "title.episode.tsv 7643524\n"
     ]
    }
   ],
   "source": [
    "for df, name in zip(dfs, df_names):\n",
    "    print(name, df.count())"
   ]
  },
  {
   "cell_type": "markdown",
   "id": "624559df-5e37-4948-bbe8-c9113ec49b72",
   "metadata": {},
   "source": [
    "### Data Preprocessing"
   ]
  },
  {
   "cell_type": "markdown",
   "id": "5406eaa3-3020-4143-b3c3-69058f05c5ed",
   "metadata": {},
   "source": [
    "#### Explode columns with multiple values"
   ]
  },
  {
   "cell_type": "code",
   "execution_count": 162,
   "id": "2918e407-137d-4ecf-8f42-f263ded8343c",
   "metadata": {},
   "outputs": [],
   "source": [
    "def explode_and_drop(df, old_col, new_col):\n",
    "    df = df.withColumn(old_col, f.split(f.col(old_col), \",\"))\n",
    "    df = df.select(\"*\", f.explode(f.col(old_col)).alias(new_col))\n",
    "    df = df.drop(old_col)\n",
    "    return df"
   ]
  },
  {
   "cell_type": "code",
   "execution_count": 163,
   "id": "c6e0b275-6b55-4c07-b560-1e7dbc26052a",
   "metadata": {},
   "outputs": [],
   "source": [
    "name_basics_df = explode_and_drop(name_basics_df, \"primaryProfession\", \"Profession\")"
   ]
  },
  {
   "cell_type": "code",
   "execution_count": 164,
   "id": "fb8e262e-02bf-46e8-83c3-b2959a1c97a1",
   "metadata": {},
   "outputs": [],
   "source": [
    "name_basics_df = explode_and_drop(name_basics_df, \"knownForTitles\", \"knownForTitle\")"
   ]
  },
  {
   "cell_type": "code",
   "execution_count": 165,
   "id": "dfae4adc-06b1-4310-a3ba-5ec6e344b962",
   "metadata": {
    "scrolled": true
   },
   "outputs": [],
   "source": [
    "title_basics_df = explode_and_drop(title_basics_df, \"genres\", \"genre\")"
   ]
  },
  {
   "cell_type": "code",
   "execution_count": 166,
   "id": "9b4861e3-8042-4234-af97-f4fab70da802",
   "metadata": {},
   "outputs": [],
   "source": [
    "title_crew_df = explode_and_drop(title_crew_df, \"directors\", \"director\")"
   ]
  },
  {
   "cell_type": "markdown",
   "id": "1b060276-000c-4f08-9425-7f7168b7f6d2",
   "metadata": {},
   "source": [
    "#### Drop useless columns"
   ]
  },
  {
   "cell_type": "code",
   "execution_count": 167,
   "id": "acf6b5e2-01f4-4740-8bb9-1bffee3eef82",
   "metadata": {},
   "outputs": [],
   "source": [
    "title_basics_df = title_basics_df.drop(\"endYear\")"
   ]
  },
  {
   "cell_type": "code",
   "execution_count": 168,
   "id": "cb5abd3d-6478-4620-bc6f-1f014ed1e54d",
   "metadata": {},
   "outputs": [],
   "source": [
    "title_akas_df = title_akas_df.drop(\"language\", \"isOriginalTitle\")"
   ]
  },
  {
   "cell_type": "code",
   "execution_count": 169,
   "id": "fa41bd4a-0c2b-46d0-8287-e4c3e1fc4bc9",
   "metadata": {},
   "outputs": [],
   "source": [
    "title_crew_df = title_crew_df.drop(\"writers\")"
   ]
  },
  {
   "cell_type": "code",
   "execution_count": 170,
   "id": "8b7c8b79-1270-4993-b8c8-4b227a1b78ea",
   "metadata": {},
   "outputs": [],
   "source": [
    "title_principals_df = title_principals_df.drop(\"characters\", \"job\")"
   ]
  },
  {
   "cell_type": "code",
   "execution_count": 171,
   "id": "74b00cda-8ee5-4512-a3cf-ae96e9e938ab",
   "metadata": {},
   "outputs": [],
   "source": [
    "dfs = [name_basics_df, title_basics_df, title_akas_df, title_crew_df, title_principals_df, title_ratings_df, title_episode_df]\n"
   ]
  },
  {
   "cell_type": "markdown",
   "id": "0ea3cf76-fd85-48da-a079-e1509baeab65",
   "metadata": {},
   "source": [
    "### Business Questions"
   ]
  },
  {
   "cell_type": "markdown",
   "id": "735f013a-0c71-4388-94ff-374c87b2c0c0",
   "metadata": {},
   "source": [
    "#### Q1: Which directors are associated with the highest number of titles (movies/TV shows) in the database?"
   ]
  },
  {
   "cell_type": "code",
   "execution_count": null,
   "id": "344aea7c-9c66-4b1d-ab3a-43f9fbc826de",
   "metadata": {},
   "outputs": [],
   "source": [
    "directors_with_num_of_firected_films_df = title_crew_df.groupBy('director').agg(f.count(\"tconst\").alias(\"Titles\")).orderBy(\"Titles\", ascending=False)\n",
    "directors_with_num_of_firected_films_df.show(6)"
   ]
  },
  {
   "cell_type": "markdown",
   "id": "179aa36c-e019-4b9e-ae1a-be30ab56dcc7",
   "metadata": {},
   "source": [
    "#### Q2: Highest ranked films where there are more than 2 million votes Films directed by the director of the best rated film"
   ]
  },
  {
   "cell_type": "code",
   "execution_count": 25,
   "id": "0a6d3f7b-120c-4960-ae2c-26aeece6e5ae",
   "metadata": {},
   "outputs": [],
   "source": [
    "highest_ranked_films_df_filtered = title_ratings_df.filter(title_ratings_df.numVotes > 2000000).orderBy(\"averageRating\", ascending=False)"
   ]
  },
  {
   "cell_type": "code",
   "execution_count": null,
   "id": "d2e0425a-5f7c-42ed-b17f-693082688a0d",
   "metadata": {},
   "outputs": [],
   "source": [
    "highest_ranked_films_df_filtered.show()"
   ]
  },
  {
   "cell_type": "code",
   "execution_count": null,
   "id": "a1485d78-7d99-47fd-b119-e089875bb8a0",
   "metadata": {},
   "outputs": [],
   "source": [
    "highest_ranked_films_df_joined = highest_ranked_films_df_filtered.join(title_basics_df.dropDuplicates((['tconst'])), on='tconst', how='inner')\n",
    "highest_ranked_films_df_joined.show()"
   ]
  },
  {
   "cell_type": "markdown",
   "id": "48ea372f-5103-4d58-807c-e2d58c7aa829",
   "metadata": {},
   "source": [
    "#### Q3: Which TV special for adults has the longest duration"
   ]
  },
  {
   "cell_type": "code",
   "execution_count": null,
   "id": "a233d4ad-63e8-4ec4-8659-1f69d0d77244",
   "metadata": {},
   "outputs": [],
   "source": [
    "tv_special_df = title_basics_df.filter((title_basics_df.titleType == \"tvSpecial\") & f.col(\"runtimeMinutes\").isNotNull())\n",
    "tv_special_adults_df = tv_special_df.where(f.col(\"isAdult\") == 1).dropDuplicates([\"tconst\"]).orderBy(\"runtimeMinutes\", ascending=False)\n",
    "tv_special_adults_df.show()"
   ]
  },
  {
   "cell_type": "markdown",
   "id": "5bf6f1a5-ee1b-4f94-9b0b-a22fcfca2647",
   "metadata": {},
   "source": [
    "#### Q4: What are the most popular genres for every content type (titleType)"
   ]
  },
  {
   "cell_type": "code",
   "execution_count": 96,
   "id": "c08e8adf-2753-418f-a6bc-7046846b8846",
   "metadata": {},
   "outputs": [
    {
     "name": "stdout",
     "output_type": "stream",
     "text": [
      "+---------+-----------+------+\n",
      "|titleType|      genre| Count|\n",
      "+---------+-----------+------+\n",
      "|    movie|     Action| 54439|\n",
      "|    movie|      Adult|  9215|\n",
      "|    movie|  Adventure| 28445|\n",
      "|    movie|  Animation|  9232|\n",
      "|    movie|  Biography| 17416|\n",
      "|    movie|     Comedy|110022|\n",
      "|    movie|      Crime| 37602|\n",
      "|    movie|Documentary|124083|\n",
      "|    movie|      Drama|236527|\n",
      "|    movie|     Family| 17805|\n",
      "|    movie|    Fantasy| 15510|\n",
      "|    movie|  Film-Noir|   882|\n",
      "|    movie|  Game-Show|    25|\n",
      "|    movie|    History| 14434|\n",
      "|    movie|     Horror| 37622|\n",
      "|    movie|      Music| 13781|\n",
      "|    movie|    Musical| 10297|\n",
      "|    movie|    Mystery| 17279|\n",
      "|    movie|       News|  1449|\n",
      "|    movie| Reality-TV|   523|\n",
      "+---------+-----------+------+\n",
      "only showing top 20 rows\n",
      "\n"
     ]
    }
   ],
   "source": [
    "# First, calculate the count of each genre within its corresponding titleType partition\n",
    "content_genres_window = Window.partitionBy(\"titleType\", \"genre\").orderBy(\"titleType\")\n",
    "content_genres_df = title_basics_df.withColumn(\"Count\", f.count(f.col(\"genre\")).over(content_genres_window)).select(\"titleType\", \"genre\", \"Count\").distinct()\n",
    "content_genres_df.show()"
   ]
  },
  {
   "cell_type": "code",
   "execution_count": 97,
   "id": "bfde1b49-d240-4527-b808-dda60515b13f",
   "metadata": {},
   "outputs": [
    {
     "name": "stdout",
     "output_type": "stream",
     "text": [
      "+------------+-----------+-------+\n",
      "|   titleType|      genre|  Count|\n",
      "+------------+-----------+-------+\n",
      "|       movie|      Drama| 236527|\n",
      "|       short|      Short| 887786|\n",
      "|   tvEpisode|      Drama|2226176|\n",
      "|tvMiniSeries|      Drama|  11733|\n",
      "|     tvMovie|Documentary|  45742|\n",
      "|     tvPilot|         \\N|      1|\n",
      "|    tvSeries|     Comedy|  57258|\n",
      "|     tvShort|      Short|   9245|\n",
      "|   tvSpecial|      Music|  11277|\n",
      "|       video|      Short| 116017|\n",
      "|   videoGame|     Action|  14571|\n",
      "+------------+-----------+-------+\n",
      "\n"
     ]
    }
   ],
   "source": [
    "# Then, find the genre with the highest count for each titleType\n",
    "genre_rank_window = Window.partitionBy(\"titleType\").orderBy(f.col(\"Count\").desc())\n",
    "content_genres_df_with_rank = content_genres_df.withColumn(\"Rank\", f.max(f.col(\"Count\")).over(genre_rank_window))\n",
    "content_genres_max_df = content_genres_df_with_rank.where(f.col(\"Count\") == f.col(\"Rank\")).drop(\"Rank\")\n",
    "content_genres_max_df.show()"
   ]
  },
  {
   "cell_type": "markdown",
   "id": "6df7bc36-86c6-430c-877d-7a6d3df29d10",
   "metadata": {},
   "source": [
    "#### Q5: How many episodes are there on average per TV show?"
   ]
  },
  {
   "cell_type": "code",
   "execution_count": 181,
   "id": "c14f1fad-fe0e-48bb-ad63-ffdae966ada4",
   "metadata": {},
   "outputs": [
    {
     "name": "stdout",
     "output_type": "stream",
     "text": [
      "+---------+----------------+------------+\n",
      "|   tconst|average_episodes|sum_episodes|\n",
      "+---------+----------------+------------+\n",
      "|tt0041951|             9.0|           9|\n",
      "|tt0042816|            17.0|          17|\n",
      "|tt0043426|            42.0|          42|\n",
      "|tt0043631|            16.0|          16|\n",
      "|tt0043693|             8.0|           8|\n",
      "|tt0043710|             3.0|           3|\n",
      "|tt0044093|             6.0|           6|\n",
      "|tt0044668|            16.0|          16|\n",
      "|tt0044901|            46.0|          46|\n",
      "|tt0045960|             3.0|           3|\n",
      "|tt0046135|             5.0|           5|\n",
      "|tt0046855|             4.0|           4|\n",
      "|tt0046864|            20.0|          20|\n",
      "|tt0047852|            15.0|          15|\n",
      "|tt0047858|             9.0|           9|\n",
      "|tt0048302|             6.0|           6|\n",
      "|tt0048371|            11.0|          11|\n",
      "|tt0049585|             5.0|           5|\n",
      "|tt0049669|             2.0|           2|\n",
      "|tt0050031|             4.0|           4|\n",
      "+---------+----------------+------------+\n",
      "only showing top 20 rows\n",
      "\n"
     ]
    }
   ],
   "source": [
    "episodes_df = title_episode_df.where((f.col(\"seasonNumber\").isNotNull()) & (f.col(\"episodeNumber\").isNotNull()))\n",
    "\n",
    "average_episodes_joined = (\n",
    "    episodes_df\n",
    "    .groupBy(\"tconst\")\n",
    "    .agg(f.max(\"episodeNumber\").alias(\"episodes_quantity\"))\n",
    ")\n",
    "\n",
    "average_episodes_joined = (\n",
    "    episodes_df\n",
    "    .groupBy(\"tconst\")\n",
    "    .agg(\n",
    "        f.avg(\"episodeNumber\").alias(\"average_episodes\"),\n",
    "        f.sum(\"episodeNumber\").alias(\"sum_episodes\")\n",
    "    )\n",
    ")\n",
    "average_episodes_joined.show()"
   ]
  },
  {
   "cell_type": "code",
   "execution_count": 180,
   "id": "e145a664-27e9-4ca8-bc02-ed7cbfb6b87d",
   "metadata": {},
   "outputs": [
    {
     "name": "stdout",
     "output_type": "stream",
     "text": [
      "+----------+------------+------------+-------------+---------+--------------------+--------------------+-------+---------+--------------+----------+\n",
      "|    tconst|parentTconst|seasonNumber|episodeNumber|titleType|        primaryTitle|       originalTitle|isAdult|startYear|runtimeMinutes|     genre|\n",
      "+----------+------------+------------+-------------+---------+--------------------+--------------------+-------+---------+--------------+----------+\n",
      "|tt28396918|   tt0068069|           1|        97251|tvEpisode|    Episode #1.97251|    Episode #1.97251|      0|     2023|          null|     Drama|\n",
      "|tt28396918|   tt0068069|           1|        97251|tvEpisode|    Episode #1.97251|    Episode #1.97251|      0|     2023|          null|   Romance|\n",
      "| tt2093578|   tt0417331|          11|        91334|tvEpisode|Quick Fix: Denim ...|Quick Fix: Denim ...|      0|     2011|          null|Reality-TV|\n",
      "| tt2093577|   tt0417331|          11|        72615|tvEpisode|HDIL Quick Fix: M...|HDIL Quick Fix: M...|      0|     2011|          null|Reality-TV|\n",
      "| tt9186160|   tt0065272|           1|        46002|tvEpisode|    Episode #1.46002|    Episode #1.46002|      0|     1987|          null|     Drama|\n",
      "| tt9186160|   tt0065272|           1|        46002|tvEpisode|    Episode #1.46002|    Episode #1.46002|      0|     1987|          null|   Mystery|\n",
      "| tt9186160|   tt0065272|           1|        46002|tvEpisode|    Episode #1.46002|    Episode #1.46002|      0|     1987|          null|   Romance|\n",
      "| tt2229655|   tt0065272|           1|        40000|tvEpisode|    Episode #1.40000|    Episode #1.40000|      0|     1985|          null|     Drama|\n",
      "| tt2229655|   tt0065272|           1|        40000|tvEpisode|    Episode #1.40000|    Episode #1.40000|      0|     1985|          null|   Mystery|\n",
      "| tt2229655|   tt0065272|           1|        40000|tvEpisode|    Episode #1.40000|    Episode #1.40000|      0|     1985|          null|   Romance|\n",
      "| tt4488914|   tt3699928|           2|        25000|tvEpisode|25k Views Super S...|25k Views Super S...|      0|     2014|          null|      News|\n",
      "|tt28512419|   tt0056758|           1|        24009|tvEpisode|    Episode #1.24009|    Episode #1.24009|      0|     1972|          null|     Crime|\n",
      "|tt28512419|   tt0056758|           1|        24009|tvEpisode|    Episode #1.24009|    Episode #1.24009|      0|     1972|          null|     Drama|\n",
      "|tt28512419|   tt0056758|           1|        24009|tvEpisode|    Episode #1.24009|    Episode #1.24009|      0|     1972|          null|   Romance|\n",
      "|tt28512396|   tt0056758|           1|        23906|tvEpisode|    Episode #1.23906|    Episode #1.23906|      0|     1972|          null|   Romance|\n",
      "|tt28512396|   tt0056758|           1|        23906|tvEpisode|    Episode #1.23906|    Episode #1.23906|      0|     1972|          null|     Crime|\n",
      "|tt28512396|   tt0056758|           1|        23906|tvEpisode|    Episode #1.23906|    Episode #1.23906|      0|     1972|          null|     Drama|\n",
      "| tt4509968|   tt0062595|           1|        21907|tvEpisode|    Episode #1.21907|    Episode #1.21907|      0|     2011|          null|     Drama|\n",
      "| tt4509968|   tt0062595|           1|        21907|tvEpisode|    Episode #1.21907|    Episode #1.21907|      0|     2011|          null|   Romance|\n",
      "|tt17503738|   tt7260936|           5|        20910|tvEpisode|    Episode #5.20910|    Episode #5.20910|      0|     null|          null| Game-Show|\n",
      "+----------+------------+------------+-------------+---------+--------------------+--------------------+-------+---------+--------------+----------+\n",
      "only showing top 20 rows\n",
      "\n"
     ]
    }
   ],
   "source": [
    "episodes_df.join(\n",
    "    title_basics_df,\n",
    "    on=\"tconst\",\n",
    "    how=\"inner\"\n",
    ").orderBy(f.col(\"episodeNumber\").desc()).show()"
   ]
  },
  {
   "cell_type": "markdown",
   "id": "587e7496-0cd2-4255-a9cb-5ee39dc19783",
   "metadata": {},
   "source": [
    "#### !!!!!!!!Q6: Which actors or actresses have appeared in the most episodes (and their average rating)?"
   ]
  },
  {
   "cell_type": "code",
   "execution_count": 65,
   "id": "11f732f5-547c-4d2a-83d4-1ca97c5663aa",
   "metadata": {},
   "outputs": [],
   "source": [
    "# Group by nconst and primaryName, and count the occurrences of each actor/actress in the knownForTitle column\n",
    "actor_episode_counts_df = ( \n",
    "        name_basics_df\n",
    "        .groupBy(\"nconst\", \"primaryName\", \"knownForTitle\")\n",
    "        .agg(f.count(\"knownForTitle\").alias(\"episodes\"))\n",
    ")\n",
    "\n",
    "# Order the results in descending order based on episode_count\n",
    "sorted_actor_episode_counts_df = actor_episode_counts_df.orderBy(f.desc(\"episodes\"))"
   ]
  },
  {
   "cell_type": "code",
   "execution_count": 83,
   "id": "c0e7353d-fc01-4781-9a33-e3a2cae9810f",
   "metadata": {},
   "outputs": [
    {
     "name": "stdout",
     "output_type": "stream",
     "text": [
      "+--------------------+------------------+--------------+\n",
      "|         primaryName|    average_rating|total_episodes|\n",
      "+--------------------+------------------+--------------+\n",
      "|Manuel Tamayo y Baus| 5.975000023841858|             4|\n",
      "|       Arline Pretty| 5.200000047683716|             2|\n",
      "|       Charles Dewey| 5.699999809265137|             1|\n",
      "|   Kathleen O'Connor| 5.450000047683716|             2|\n",
      "|          Ali Hubert|2.3749999602635703|            12|\n",
      "|       Allan Simpson| 6.699999968210856|             3|\n",
      "|       André Barsacq|              2.25|             6|\n",
      "|     Captain Kearney| 5.599999904632568|             1|\n",
      "|         Owen Wister| 3.087499976158142|             8|\n",
      "|      Lorraine Aalbu|               6.0|             1|\n",
      "|         Frank Rowan| 3.616666634877523|             6|\n",
      "|      Anchise Brizzi|5.8999998569488525|             4|\n",
      "|      Garland Weaver| 3.162499964237213|             8|\n",
      "|       Lorraine Rugg| 5.699999809265137|             1|\n",
      "|        Lyda Roberti| 3.037499964237213|             8|\n",
      "|        Norma Adoree| 5.800000190734863|             1|\n",
      "|     Heinrich Marlow| 7.099999904632568|             2|\n",
      "|       Bruno Torrisi| 5.099999904632568|             1|\n",
      "| Vladimir Shnejderov|1.5111111005147297|             9|\n",
      "|      László Perényi| 6.833333333333333|             3|\n",
      "+--------------------+------------------+--------------+\n",
      "only showing top 20 rows\n",
      "\n"
     ]
    }
   ],
   "source": [
    "\n",
    "# Join the sorted_actor_episode_counts_df with title.ratings_df to get the average rating for each actor/actress\n",
    "result_df = sorted_actor_episode_counts_df.join(\n",
    "    title_ratings_df,\n",
    "    f.expr(\"knownForTitle = tconst\"),\n",
    "    how=\"inner\"\n",
    ")\n",
    "\n",
    "# Calculate the sum of averageRating and episodes for each actor/actress\n",
    "result_df = result_df.groupBy(\"nconst\", \"primaryName\").agg(\n",
    "    f.sum(\"averageRating\").alias(\"total_rating\"),\n",
    "    f.sum(\"episodes\").alias(\"total_episodes\")\n",
    ")\n",
    "\n",
    "# Calculate the average rating for each actor/actress\n",
    "result_df = result_df.withColumn(\"average_rating\", f.col(\"total_rating\") / f.col(\"total_episodes\"))\n",
    "\n",
    "result_df = result_df.select(\"primaryName\", \"average_rating\", \"total_episodes\").show()\n"
   ]
  },
  {
   "cell_type": "markdown",
   "id": "c9b757be-4af2-432f-92eb-d1278ebfdf18",
   "metadata": {},
   "source": [
    "#### Q7: Actors that lived the most"
   ]
  },
  {
   "cell_type": "code",
   "execution_count": 151,
   "id": "3ee59bf1-b9f3-45e8-abbc-560684037a3d",
   "metadata": {},
   "outputs": [
    {
     "name": "stdout",
     "output_type": "stream",
     "text": [
      "+---------+--------------------+---------+---------+----------+-------------+---+\n",
      "|   nconst|         primaryName|birthYear|deathYear|Profession|knownForTitle|age|\n",
      "+---------+--------------------+---------+---------+----------+-------------+---+\n",
      "|nm0406304|    Giuseppe Ianigro|     1898|     2008|     actor|    tt0055753|110|\n",
      "|nm1158663|        Nino Cochise|     1874|     1984|     actor|    tt0042171|110|\n",
      "|nm0077980|     Octave Berthier|     1875|     1984|     actor|    tt0216961|109|\n",
      "|nm0191102|       Hugues Cuénod|     1902|     2010|     actor|   tt13737592|108|\n",
      "|nm0373535|   Johannes Heesters|     1903|     2011|     actor|    tt0027351|108|\n",
      "|nm0516093|        Norman Lloyd|     1914|     2021|     actor|    tt0097165|107|\n",
      "|nm7922088|Pappukutty Bhagav...|     1913|     2020|     actor|    tt0254797|107|\n",
      "|nm0704527|         Milton Quon|     1913|     2019|     actor|    tt0106064|106|\n",
      "|nm0350778|       Pierre Gérald|     1906|     2012|     actor|    tt0409184|106|\n",
      "|nm0531042|      Lincoln Maazel|     1903|     2009|     actor|    tt0077914|106|\n",
      "|nm0562499|        Robert Mayer|     1879|     1985|     actor|    tt0403761|106|\n",
      "|nm0603217|      Miguel Morayta|     1907|     2013|     actor|    tt0268477|106|\n",
      "|nm0714591|        Elmo Red Fox|     1870|     1976|     actor|    tt0055708|106|\n",
      "|nm0755403|         Yutaka Sada|     1911|     2017|     actor|    tt0051808|106|\n",
      "|nm0783615|       Tonio Selwart|     1896|     2002|     actor|    tt0037465|106|\n",
      "|nm1051211|     Nicholas Winton|     1909|     2015|     actor|    tt0218705|106|\n",
      "|nm3551334|     Horacio Coppola|     1906|     2012|     actor|   tt12187596|106|\n",
      "|nm4756632|        Ernie Walker|     1916|     2022|     actor|    tt2102438|106|\n",
      "|nm0262267|    Eugene L. Eubank|     1892|     1997|     actor|    tt0035689|105|\n",
      "|nm0025045|        Lukas Ammann|     1912|     2017|     actor|    tt3327554|105|\n",
      "+---------+--------------------+---------+---------+----------+-------------+---+\n",
      "only showing top 20 rows\n",
      "\n"
     ]
    }
   ],
   "source": [
    "current_year = f.year(f.current_date())\n",
    "filtered_ages_df = name_basics_df.filter(name_basics_df.deathYear.isNotNull() & name_basics_df.birthYear.isNotNull())\n",
    "\n",
    "# Calculate the age\n",
    "age_df = filtered_ages_df.withColumn('age',f.col(\"deathYear\") - f.col(\"birthYear\"))\n",
    "\n",
    "# Filter for actors and drop duplicates\n",
    "actors_df = age_df.filter(f.col(\"Profession\") == \"actor\").dropDuplicates([\"nconst\"])\n",
    "\n",
    "# Order by age in descending order\n",
    "result = actors_df.orderBy(f.col(\"age\").desc())\n",
    "\n",
    "result.show()"
   ]
  },
  {
   "cell_type": "markdown",
   "id": "f68a5763-c958-43ae-a6e4-94bb552a0fb7",
   "metadata": {},
   "source": [
    "#### Q8: Actors that worked in the film industry the most"
   ]
  },
  {
   "cell_type": "code",
   "execution_count": 176,
   "id": "1347d465-2555-443a-8e10-9d1856f7745c",
   "metadata": {},
   "outputs": [
    {
     "name": "stdout",
     "output_type": "stream",
     "text": [
      "+----------+-------------------+-----------------+------------+\n",
      "|    nconst|earliest_movie_year|oldest_movie_year|years_worked|\n",
      "+----------+-------------------+-----------------+------------+\n",
      "| nm1485676|               1895|             2017|         122|\n",
      "|nm12182942|               1900|             2020|         120|\n",
      "| nm0703075|               1899|             2019|         120|\n",
      "| nm0923185|               1897|             2015|         118|\n",
      "| nm3777335|               1902|             2020|         118|\n",
      "|nm13890136|               1905|             2023|         118|\n",
      "| nm0502124|               1900|             2016|         116|\n",
      "| nm2251467|               1904|             2020|         116|\n",
      "| nm8577610|               1903|             2018|         115|\n",
      "| nm0685283|               1909|             2023|         114|\n",
      "| nm0122813|               1898|             2011|         113|\n",
      "| nm4537461|               1908|             2021|         113|\n",
      "| nm1375863|               1911|             2023|         112|\n",
      "| nm2071737|               1909|             2021|         112|\n",
      "| nm0655824|               1911|             2023|         112|\n",
      "| nm0078205|               1911|             2023|         112|\n",
      "| nm1374534|               1911|             2023|         112|\n",
      "| nm2421834|               1906|             2018|         112|\n",
      "| nm0660139|               1911|             2023|         112|\n",
      "| nm2955948|               1909|             2021|         112|\n",
      "+----------+-------------------+-----------------+------------+\n",
      "only showing top 20 rows\n",
      "\n"
     ]
    }
   ],
   "source": [
    "# Join actors and movies on movie_id to get actor and movie details\n",
    "joined_df = name_basics_df.join(title_basics_df,\n",
    "    f.expr(\"knownForTitle = tconst\"),\n",
    "    how=\"inner\"\n",
    ")\n",
    "\n",
    "# Group by actor_id and calculate earliest and oldest movie years\n",
    "actor_year_window = Window.partitionBy(\"nconst\")\n",
    "filtered_years_df = joined_df.filter(joined_df.startYear.isNotNull())\n",
    "start_end_years_df = (\n",
    "                    filtered_years_df\n",
    "                    .withColumn(\"earliest_movie_year\", f.min(\"startYear\").over(actor_year_window)) \n",
    "                    .withColumn(\"oldest_movie_year\", f.max(\"startYear\").over(actor_year_window)) \n",
    "                    .select(\"nconst\", \"earliest_movie_year\", \"oldest_movie_year\").distinct())\n",
    "\n",
    "years_worked_df = start_end_years_df.withColumn(\"years_worked\", f.col(\"oldest_movie_year\") - f.col(\"earliest_movie_year\"))\n",
    "years_worked_df.orderBy(f.col(\"years_worked\").desc()).show()"
   ]
  },
  {
   "cell_type": "code",
   "execution_count": 178,
   "id": "c013070d-69c4-4f32-876d-6ae090c23363",
   "metadata": {},
   "outputs": [
    {
     "name": "stdout",
     "output_type": "stream",
     "text": [
      "+---------+------------+---------+---------+----------+-------------+----------+---------+--------------------+--------------------+-------+---------+--------------+-----------+\n",
      "|   nconst| primaryName|birthYear|deathYear|Profession|knownForTitle|    tconst|titleType|        primaryTitle|       originalTitle|isAdult|startYear|runtimeMinutes|      genre|\n",
      "+---------+------------+---------+---------+----------+-------------+----------+---------+--------------------+--------------------+-------+---------+--------------+-----------+\n",
      "|nm1485676|Princess Ali|     null|     null|   actress|    tt0229665| tt0229665|    short|        Princess Ali|        Princess Ali|      0|     1895|             1|      Short|\n",
      "|nm1485676|Princess Ali|     null|     null|   actress|   tt11327742|tt11327742|    short|The Universe Mult...|The Universe Mult...|      0|     2017|          null|Documentary|\n",
      "|nm1485676|Princess Ali|     null|     null|   actress|   tt11327742|tt11327742|    short|The Universe Mult...|The Universe Mult...|      0|     2017|          null|      Short|\n",
      "+---------+------------+---------+---------+----------+-------------+----------+---------+--------------------+--------------------+-------+---------+--------------+-----------+\n",
      "\n"
     ]
    }
   ],
   "source": [
    "# Making sure dataset is tripping(not us)\n",
    "joined_df = name_basics_df.join(title_basics_df,\n",
    "    f.expr(\"knownForTitle = tconst\"),\n",
    "    how=\"inner\"\n",
    ")\n",
    "joined_df.where(f.col(\"nconst\")==\"nm1485676\").show()"
   ]
  },
  {
   "cell_type": "markdown",
   "id": "5c4877ef-bd75-4a9d-817b-8e63d132d5f7",
   "metadata": {},
   "source": [
    "#### Q9: What is the average rating of movies/tvShows/shorts in the database?"
   ]
  },
  {
   "cell_type": "code",
   "execution_count": 93,
   "id": "67e9ac41-7426-4f56-94fd-4bac4bfae6c9",
   "metadata": {},
   "outputs": [
    {
     "name": "stdout",
     "output_type": "stream",
     "text": [
      "+------------+-------------------+\n",
      "|   titleType|AverageRatingByType|\n",
      "+------------+-------------------+\n",
      "|       movie|   6.13661492364121|\n",
      "|       short|   6.87268124400951|\n",
      "|   tvEpisode|  7.397082662738441|\n",
      "|tvMiniSeries|  7.149319747241659|\n",
      "|     tvMovie|  6.547916374691202|\n",
      "|    tvSeries| 6.9275777417030024|\n",
      "|     tvShort|  6.878082188289075|\n",
      "|   tvSpecial|  6.864447639269466|\n",
      "|       video|  6.561980644607639|\n",
      "|   videoGame|  6.952307144809957|\n",
      "+------------+-------------------+\n",
      "\n"
     ]
    }
   ],
   "source": [
    "window_spec = Window.partitionBy(\"titleType\")\n",
    "\n",
    "titles_ratings_joined_df = title_basics_df.join(title_ratings_df, \"tconst\")\n",
    "\n",
    "ratings_df_with_avg = titles_ratings_joined_df.withColumn(\"AverageRatingByType\", f.avg(\"averageRating\").over(window_spec))\n",
    "\n",
    "ratings_df_with_avg.select(\"titleType\", \"AverageRatingByType\").distinct().show()"
   ]
  }
 ],
 "metadata": {
  "kernelspec": {
   "display_name": "Python 3 (ipykernel)",
   "language": "python",
   "name": "python3"
  },
  "language_info": {
   "codemirror_mode": {
    "name": "ipython",
    "version": 3
   },
   "file_extension": ".py",
   "mimetype": "text/x-python",
   "name": "python",
   "nbconvert_exporter": "python",
   "pygments_lexer": "ipython3",
   "version": "3.11.4"
  }
 },
 "nbformat": 4,
 "nbformat_minor": 5
}
